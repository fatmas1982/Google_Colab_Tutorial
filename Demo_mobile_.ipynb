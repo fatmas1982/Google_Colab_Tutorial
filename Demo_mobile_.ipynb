{
  "nbformat": 4,
  "nbformat_minor": 0,
  "metadata": {
    "colab": {
      "name": "Demo mobile .ipynb",
      "provenance": [],
      "collapsed_sections": []
    },
    "kernelspec": {
      "display_name": "Python 3",
      "name": "python3"
    },
    "language_info": {
      "name": "python"
    }
  },
  "cells": [
    {
      "cell_type": "markdown",
      "metadata": {
        "id": "ITBGXv-4PKE9"
      },
      "source": [
        "#<font color=\"red\">**1. Mount Google Drive to Google Colab**</font>\n",
        "\n",
        " \n",
        "In Google Colab, we are going to create a notebook to execute our commands. If you are logged in, once you create the notebook, your file will be stored in a folder called Colab Notebooks."
      ]
    },
    {
      "cell_type": "code",
      "metadata": {
        "id": "J7hXGR_FnOoH"
      },
      "source": [
        "from google.colab import drive\n",
        "drive.mount('/content/drive')"
      ],
      "execution_count": null,
      "outputs": []
    },
    {
      "cell_type": "markdown",
      "metadata": {
        "id": "r585bZnatC_m"
      },
      "source": [
        "##<font color=\"Green\">**Working Directory**</font>"
      ]
    },
    {
      "cell_type": "markdown",
      "metadata": {
        "id": "akhkc_tHPxPz"
      },
      "source": [
        "###<font color=\"Orange\">**Read the Current Working Directory**</font>"
      ]
    },
    {
      "cell_type": "code",
      "metadata": {
        "id": "dvqpByRVO8Co"
      },
      "source": [
        "!ls"
      ],
      "execution_count": null,
      "outputs": []
    },
    {
      "cell_type": "code",
      "metadata": {
        "id": "4c2F0E8JnpbM"
      },
      "source": [
        "!ls \"drive\""
      ],
      "execution_count": null,
      "outputs": []
    },
    {
      "cell_type": "code",
      "metadata": {
        "id": "zqF2pSYOn1wm"
      },
      "source": [
        "!ls \"drive/MyDrive\""
      ],
      "execution_count": null,
      "outputs": []
    },
    {
      "cell_type": "code",
      "metadata": {
        "id": "ppzFFh-an5iU"
      },
      "source": [
        "!ls \"drive/MyDrive/Demo\""
      ],
      "execution_count": null,
      "outputs": []
    },
    {
      "cell_type": "markdown",
      "metadata": {
        "id": "FUrGXHiDoFO9"
      },
      "source": [
        "###<font color=\"Orange\">**Changing the Current Working Directory**</font>\n",
        "We must first change the current working directory to a newly created one before doing any operations in it. This is done using the chdir() function. The following change current working directory to drive/MyDrive/Demo.\n",
        "\n"
      ]
    },
    {
      "cell_type": "code",
      "metadata": {
        "id": "1GakoB8KoALs"
      },
      "source": [
        "import os\n",
        "os.chdir(\"drive/MyDrive/Demo\") # changing current workign directory"
      ],
      "execution_count": null,
      "outputs": []
    },
    {
      "cell_type": "code",
      "metadata": {
        "id": "hxN09pmpokyu"
      },
      "source": [
        "!ls"
      ],
      "execution_count": null,
      "outputs": []
    },
    {
      "cell_type": "markdown",
      "metadata": {
        "id": "2Zv8fWuWpsCG"
      },
      "source": [
        "###<font color=\"Orange\">**Create a Physical Directory**</font>"
      ]
    },
    {
      "cell_type": "code",
      "metadata": {
        "id": "GkibLIf3phcU"
      },
      "source": [
        "import os\n",
        "#os.mkdir(\"drive/MyDrive/Demo/Data/\")\n",
        "os.mkdir(\"Data\")\n",
        "os.mkdir(\"Test\")\n",
        "os.mkdir(\"Test/Sub_Test_1\")\n",
        "os.mkdir(\"Test/Sub_Test_2\")"
      ],
      "execution_count": null,
      "outputs": []
    },
    {
      "cell_type": "code",
      "metadata": {
        "id": "F0_Ft4w7p3k8"
      },
      "source": [
        "!ls"
      ],
      "execution_count": null,
      "outputs": []
    },
    {
      "cell_type": "markdown",
      "metadata": {
        "id": "yuVlottuqSNn"
      },
      "source": [
        "###<font color=\"Orange\">**Removing a Directory**</font>\n",
        "The rmdir() function in the OS module removes the specified directory either with an absolute or relative path. Note that, for a directory to be removed, it should be empty."
      ]
    },
    {
      "cell_type": "code",
      "metadata": {
        "id": "3rQct2BAqInd"
      },
      "source": [
        "import os\n",
        "os.rmdir(\"Data\")"
      ],
      "execution_count": null,
      "outputs": []
    },
    {
      "cell_type": "code",
      "metadata": {
        "id": "v3DMtmcgqnNe"
      },
      "source": [
        "!ls"
      ],
      "execution_count": null,
      "outputs": []
    },
    {
      "cell_type": "markdown",
      "metadata": {
        "id": "q6UdNFnXq1XX"
      },
      "source": [
        "###<font color=\"Orange\">**List Files and Sub-directories**</font>\n",
        "The listdir() function returns the list of all files and directories in the specified directory."
      ]
    },
    {
      "cell_type": "code",
      "metadata": {
        "id": "U5_yZM_1qoWA"
      },
      "source": [
        "import os\n",
        "os.listdir(\"Test\")\n"
      ],
      "execution_count": null,
      "outputs": []
    },
    {
      "cell_type": "markdown",
      "metadata": {
        "id": "iSg8bNGZtLDp"
      },
      "source": [
        "#<font color=\"red\">**Github**</font>\n"
      ]
    },
    {
      "cell_type": "markdown",
      "metadata": {
        "id": "5F1npADis-Ay"
      },
      "source": [
        "##<font color=\"green\">**Cloning Github Repo to Google Colab**</font>\n",
        " \n",
        "It is easy to clone a Github repo with Git.\n",
        "\n",
        "Step 1: Find the Github Repo and Get “Git” Link\n",
        "\n",
        "Find any Github repo to use. For instance: https://github.com/wxs/keras-mnist-tutorial\n",
        "\n",
        "Clone or download > Copy the link!"
      ]
    },
    {
      "cell_type": "code",
      "metadata": {
        "id": "fjs4kOGntiog"
      },
      "source": [
        "!ls"
      ],
      "execution_count": null,
      "outputs": []
    },
    {
      "cell_type": "code",
      "metadata": {
        "id": "OaBynMY1q-QP"
      },
      "source": [
        "!git clone https://github.com/wxs/keras-mnist-tutorial.git"
      ],
      "execution_count": null,
      "outputs": []
    },
    {
      "cell_type": "code",
      "metadata": {
        "id": "Ry_XOelWtlXY"
      },
      "source": [
        "!ls"
      ],
      "execution_count": null,
      "outputs": []
    },
    {
      "cell_type": "code",
      "metadata": {
        "id": "sic2NVJptm82"
      },
      "source": [
        "import os\n",
        "os.listdir(\"keras-mnist-tutorial\")"
      ],
      "execution_count": null,
      "outputs": []
    },
    {
      "cell_type": "markdown",
      "metadata": {
        "id": "-tmINYD3AoRs"
      },
      "source": [
        "##<font color=\"green\">**Connecting, mounting and updating**</font>"
      ]
    },
    {
      "cell_type": "markdown",
      "metadata": {
        "id": "4wdM4KCeCBvW"
      },
      "source": [
        "The above snippet mounts the Google Drive at /content/drive and creates our project's directory. It then pulls all the files from Github and copies them over to that directory. Finally, it collects everything that belongs to the Drive directory and copies it over to our local runtime.\n",
        "A nice thing about this solution is that it won’t crash if executed multiple times. Whenever executed, it will only update what is new and that’s it. Also, with rsync we have the option to exclude some of the content, which may take too long to copy (...data?)."
      ]
    },
    {
      "cell_type": "code",
      "metadata": {
        "id": "zZ93XNuOAz9k"
      },
      "source": [
        "from google.colab import drive\n",
        "from os.path import join\n",
        "\n",
        "ROOT = \"/content/drive\"     # default for the drive\n",
        "PROJ = \"/My Drive/Demo/keras-mnist-tutorial\"       # path to your project on Drive\n",
        "\n",
        "GIT_USERNAME = \"fatmas1982\" # replace with yours\n",
        "GIT_TOKEN = \"*************\"           # definitely replace with yours\n",
        "GIT_REPOSITORY = \"Google_Colab_Tutorial\"      # ...nah\n",
        "\n",
        "\n",
        "drive.mount(ROOT)           # we mount the drive at /content/drive\n",
        "\n",
        "PROJECT_PATH = ROOT+PROJ#join(ROOT, PROJ)\n",
        "\n",
        "print(PROJECT_PATH)\n",
        "#!mkdir \"{PROJECT_PATH}\"I    # in case we haven't created it already  \n",
        "import os\n",
        "os.chdir(\"/content/drive/My Drive/Demo\") \n",
        "!pwd\n",
        "GIT_PATH = \"https://github.com/wxs/keras-mnist-tutorial.git\" # or any path like https://{GIT_TOKEN}@github.com/{GIT_USERNAME}/{GIT_REPOSITORY}.git https://github.com/wxs/keras-mnist-tutorial.git\n",
        "\n",
        "!pwd\n",
        "\n",
        "#!mkdir \"{ROOT}\"\"/My Drive/Demo/temp\"\n",
        "!git clone \"{GIT_PATH}\"  #!git clone https://github.com/wxs/keras-mnist-tutorial.git\n",
        "#!mv  \"/content/drive/My Drive/Demo/temp/*\" \"{PROJECT_PATH}\"\n",
        "#!rm -rf \"/content/drive/My Drive/Demo/temp\"\n",
        "#!rsync -aP --exclude=data/ \"{PROJECT_PATH}\"/*  ./"
      ],
      "execution_count": null,
      "outputs": []
    },
    {
      "cell_type": "markdown",
      "metadata": {
        "id": "7iOq3NbqC6G6"
      },
      "source": [
        "##<font color=\"green\">**Saving, calling it a day**</font>\n",
        "Once you wish to make a backup of all of your work, all you need to do is to copy all the files to the storage and push them to Github.\n",
        "Copying can be done using !cp -r ./* \"{PROJECT_PATH}\" executed in a notebook cell, which will update the Drive storage. Then, pushing to Github requires creating a temporary working directory and configuring local git repo just for the time being. Here are the commands to execute:\n"
      ]
    },
    {
      "cell_type": "code",
      "metadata": {
        "id": "TK0hFu5VC7my",
        "collapsed": true
      },
      "source": [
        "ROOT = \"/content/drive\"     # default for the drive\n",
        "PROJ = \"/My Drive/Demo/keras-mnist-tutorial\"       # path to your project on Drive\n",
        "\n",
        "GIT_USERNAME = \"fatmas1982\" # replace with yours\n",
        "GIT_TOKEN = \"**************\"           # definitely replace with yours\n",
        "GIT_REPOSITORY = \"Google_Colab_Tutorial\"      # ...nah\n",
        "ROOT = \"/content/drive\"     # default for the drive\n",
        "PROJ = \"/My Drive/Demo/keras-mnist-tutorial\"       # path to your project on Drive\n",
        "PROJECT_PATH = ROOT+PROJ#join(ROOT, PROJ)\n",
        "GIT_COMMIT_MESSAGE=\"Commit2\"\n",
        "GIT_EMAIL=\"fatma.s.gadelrab@gmail.com\"\n",
        "GIT_NAME=\"fatmas1982\"\n",
        "GIT_BRANCH_NAME=\"main\"#\"main\"\n",
        "\n",
        "import os\n",
        "os.chdir(\"/content/drive/My Drive/Demo\") \n",
        "!pwd\n",
        "\n",
        "!mkdir ./temp\n",
        "!git clone \"https://{GIT_TOKEN}@github.com/{GIT_USERNAME}/{GIT_REPOSITORY}.git\" ./temp\n",
        "!rsync -aP --exclude=data/ \"{PROJECT_PATH}\"/* ./temp\n",
        "\n",
        "%cd ./temp\n",
        "!git add .\n",
        "!git commit -m '\"{GIT_COMMIT_MESSAGE}\"'\n",
        "!git config --global user.email \"{GIT_EMAIL}\"\n",
        "!git config --global user.name \"{GIT_NAME}\"\n",
        "!git push origin \"{GIT_BRANCH_NAME}\"\n",
        "#%cd /content\n",
        "#!rm -rf ./temp\n",
        "!rm -rf \"/content/drive/My Drive/Demo/temp\""
      ],
      "execution_count": null,
      "outputs": []
    },
    {
      "cell_type": "code",
      "metadata": {
        "id": "pgUBwNQR233a"
      },
      "source": [
        ""
      ],
      "execution_count": null,
      "outputs": []
    }
  ]
}